{
 "cells": [
  {
   "cell_type": "code",
   "execution_count": 96,
   "id": "1fb7d74b-5b42-498b-a057-42aefbb4e010",
   "metadata": {},
   "outputs": [],
   "source": [
    "import pandas as pd"
   ]
  },
  {
   "cell_type": "code",
   "execution_count": 97,
   "id": "7a669f09-b48b-442e-a5d4-77af0bf3b8d5",
   "metadata": {},
   "outputs": [],
   "source": [
    "df = pd.read_csv('skincancer.txt', sep='\\s+')"
   ]
  },
  {
   "cell_type": "code",
   "execution_count": 98,
   "id": "6516064d-d99a-442d-a6f6-6db19631ffff",
   "metadata": {},
   "outputs": [],
   "source": [
    "from matplotlib import pyplot "
   ]
  },
  {
   "cell_type": "code",
   "execution_count": 99,
   "id": "77cf13d0-67a4-46bb-92c9-196e5f390e39",
   "metadata": {},
   "outputs": [
    {
     "data": {
      "text/html": [
       "<div>\n",
       "<style scoped>\n",
       "    .dataframe tbody tr th:only-of-type {\n",
       "        vertical-align: middle;\n",
       "    }\n",
       "\n",
       "    .dataframe tbody tr th {\n",
       "        vertical-align: top;\n",
       "    }\n",
       "\n",
       "    .dataframe thead th {\n",
       "        text-align: right;\n",
       "    }\n",
       "</style>\n",
       "<table border=\"1\" class=\"dataframe\">\n",
       "  <thead>\n",
       "    <tr style=\"text-align: right;\">\n",
       "      <th></th>\n",
       "      <th>State</th>\n",
       "      <th>Lat</th>\n",
       "      <th>Mort</th>\n",
       "      <th>Ocean</th>\n",
       "      <th>Long</th>\n",
       "    </tr>\n",
       "  </thead>\n",
       "  <tbody>\n",
       "    <tr>\n",
       "      <th>0</th>\n",
       "      <td>Alabama</td>\n",
       "      <td>33.0</td>\n",
       "      <td>219</td>\n",
       "      <td>1</td>\n",
       "      <td>87.0</td>\n",
       "    </tr>\n",
       "    <tr>\n",
       "      <th>1</th>\n",
       "      <td>Arizona</td>\n",
       "      <td>34.5</td>\n",
       "      <td>160</td>\n",
       "      <td>0</td>\n",
       "      <td>112.0</td>\n",
       "    </tr>\n",
       "    <tr>\n",
       "      <th>2</th>\n",
       "      <td>Arkansas</td>\n",
       "      <td>35.0</td>\n",
       "      <td>170</td>\n",
       "      <td>0</td>\n",
       "      <td>92.5</td>\n",
       "    </tr>\n",
       "    <tr>\n",
       "      <th>3</th>\n",
       "      <td>California</td>\n",
       "      <td>37.5</td>\n",
       "      <td>182</td>\n",
       "      <td>1</td>\n",
       "      <td>119.5</td>\n",
       "    </tr>\n",
       "    <tr>\n",
       "      <th>4</th>\n",
       "      <td>Colorado</td>\n",
       "      <td>39.0</td>\n",
       "      <td>149</td>\n",
       "      <td>0</td>\n",
       "      <td>105.5</td>\n",
       "    </tr>\n",
       "  </tbody>\n",
       "</table>\n",
       "</div>"
      ],
      "text/plain": [
       "        State   Lat  Mort  Ocean   Long\n",
       "0     Alabama  33.0   219      1   87.0\n",
       "1     Arizona  34.5   160      0  112.0\n",
       "2    Arkansas  35.0   170      0   92.5\n",
       "3  California  37.5   182      1  119.5\n",
       "4    Colorado  39.0   149      0  105.5"
      ]
     },
     "execution_count": 99,
     "metadata": {},
     "output_type": "execute_result"
    }
   ],
   "source": [
    "df[:5]"
   ]
  },
  {
   "cell_type": "code",
   "execution_count": 100,
   "id": "44293db2-28d0-4ded-83ed-7247fa56b82e",
   "metadata": {},
   "outputs": [],
   "source": [
    "lats = df['Lat']"
   ]
  },
  {
   "cell_type": "code",
   "execution_count": 101,
   "id": "612366a2-2ac7-4de8-b5ca-52e815a69af4",
   "metadata": {},
   "outputs": [],
   "source": [
    "mort = df['Mort']"
   ]
  },
  {
   "cell_type": "code",
   "execution_count": 102,
   "id": "d6c9b30e-39a3-4e6a-a563-fcd9c684b56d",
   "metadata": {},
   "outputs": [
    {
     "data": {
      "image/png": "[encoded data removed]",
      "text/plain": [
       "<Figure size 640x480 with 1 Axes>"
      ]
     },
     "metadata": {},
     "output_type": "display_data"
    }
   ],
   "source": [
    "pyplot.scatter(lats, mort)\n",
    "pyplot.xlabel(\"latitude\")\n",
    "pyplot.ylabel(\"mortality (in 10k)\")\n",
    "pyplot.show()"
   ]
  },
  {
   "cell_type": "code",
   "execution_count": 104,
   "id": "ac3fb654-67be-4778-8726-3d9f0fae4c97",
   "metadata": {},
   "outputs": [],
   "source": [
    "import numpy as np"
   ]
  },
  {
   "cell_type": "code",
   "execution_count": 105,
   "id": "62a61daa-5744-44ca-af03-d72f183237f5",
   "metadata": {},
   "outputs": [],
   "source": [
    "m,b = np.polyfit(lats, mort, 1)"
   ]
  },
  {
   "cell_type": "code",
   "execution_count": 106,
   "id": "28a1e0b9-1a4d-4d8a-a39a-1901eec37b55",
   "metadata": {},
   "outputs": [
    {
     "data": {
      "text/plain": [
       "-5.977635744411931"
      ]
     },
     "execution_count": 106,
     "metadata": {},
     "output_type": "execute_result"
    }
   ],
   "source": [
    "m"
   ]
  },
  {
   "cell_type": "code",
   "execution_count": 107,
   "id": "dd19a4f8-ac2d-4d98-a298-6fd296b7a77a",
   "metadata": {},
   "outputs": [
    {
     "data": {
      "text/plain": [
       "389.18935103061915"
      ]
     },
     "execution_count": 107,
     "metadata": {},
     "output_type": "execute_result"
    }
   ],
   "source": [
    "b"
   ]
  },
  {
   "cell_type": "code",
   "execution_count": 116,
   "id": "4565350b-42e3-4e45-909f-e013bc2dda66",
   "metadata": {},
   "outputs": [
    {
     "data": {
      "image/png": "[encoded data removed]",
      "text/plain": [
       "<Figure size 640x480 with 1 Axes>"
      ]
     },
     "metadata": {},
     "output_type": "display_data"
    }
   ],
   "source": [
    "pyplot.plot(lats, mort, 'go', lats, m*lats+b, 'r-')\n",
    "pyplot.show()"
   ]
  },
  {
   "cell_type": "code",
   "execution_count": null,
   "id": "c270b1ca-f282-4c1f-9ed8-5fccb5a480bb",
   "metadata": {},
   "outputs": [],
   "source": []
  }
 ],
 "metadata": {
  "kernelspec": {
   "display_name": "Python 3 (ipykernel)",
   "language": "python",
   "name": "python3"
  },
  "language_info": {
   "codemirror_mode": {
    "name": "ipython",
    "version": 3
   },
   "file_extension": ".py",
   "mimetype": "text/x-python",
   "name": "python",
   "nbconvert_exporter": "python",
   "pygments_lexer": "ipython3",
   "version": "3.11.7"
  }
 },
 "nbformat": 4,
 "nbformat_minor": 5
}
